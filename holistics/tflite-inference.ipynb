{
 "cells": [
  {
   "cell_type": "code",
   "execution_count": null,
   "id": "e84d8558-8910-4b10-943f-21aa6012fb52",
   "metadata": {},
   "outputs": [],
   "source": [
    "# RUN TFLITE INFERENCE ON AN EXAMPLE DATASET"
   ]
  },
  {
   "cell_type": "code",
   "execution_count": 2,
   "id": "90fa5678-b17f-402d-bca3-afc19f6ce80f",
   "metadata": {},
   "outputs": [
    {
     "name": "stdout",
     "output_type": "stream",
     "text": [
      "\u001b[31mERROR: Could not find a version that satisfies the requirement tflite-runtime (from versions: none)\u001b[0m\u001b[31m\n",
      "\u001b[0m\u001b[31mERROR: No matching distribution found for tflite-runtime\u001b[0m\u001b[31m\n",
      "\u001b[0m"
     ]
    }
   ],
   "source": [
    "!pip3 install tflite-runtime"
   ]
  },
  {
   "cell_type": "code",
   "execution_count": 3,
   "id": "ac45ac9d-94aa-40d4-88c0-10838d066fc1",
   "metadata": {},
   "outputs": [
    {
     "name": "stdout",
     "output_type": "stream",
     "text": [
      "Looking in indexes: https://pypi.org/simple, https://google-coral.github.io/py-repo/\n",
      "Collecting tflite_runtime\n",
      "  Downloading https://github.com/google-coral/pycoral/releases/download/v2.0.0/tflite_runtime-2.5.0.post1-cp39-cp39-macosx_12_0_arm64.whl (1.2 MB)\n",
      "\u001b[2K     \u001b[90m━━━━━━━━━━━━━━━━━━━━━━━━━━━━━━━━━━━━━━━━\u001b[0m \u001b[32m1.2/1.2 MB\u001b[0m \u001b[31m14.0 MB/s\u001b[0m eta \u001b[36m0:00:00\u001b[0ma \u001b[36m0:00:01\u001b[0m\n",
      "\u001b[?25hRequirement already satisfied: numpy>=1.16.0 in /Users/shaimahaque/Projects/asl_signs_isl/.venv/lib/python3.9/site-packages (from tflite_runtime) (1.26.1)\n",
      "Installing collected packages: tflite_runtime\n",
      "Successfully installed tflite_runtime-2.5.0.post1\n"
     ]
    }
   ],
   "source": [
    "!pip3 install --extra-index-url https://google-coral.github.io/py-repo/ tflite_runtime"
   ]
  },
  {
   "cell_type": "code",
   "execution_count": 4,
   "id": "9b230dfb-d629-459d-ac64-447b4d2b4a5e",
   "metadata": {},
   "outputs": [
    {
     "name": "stdout",
     "output_type": "stream",
     "text": [
      "Collecting tensorflow\n",
      "  Downloading tensorflow-2.15.0-cp39-cp39-macosx_12_0_arm64.whl.metadata (3.6 kB)\n",
      "Collecting tensorflow-macos==2.15.0 (from tensorflow)\n",
      "  Downloading tensorflow_macos-2.15.0-cp39-cp39-macosx_12_0_arm64.whl.metadata (4.2 kB)\n",
      "Requirement already satisfied: absl-py>=1.0.0 in /Users/shaimahaque/Projects/asl_signs_isl/.venv/lib/python3.9/site-packages (from tensorflow-macos==2.15.0->tensorflow) (2.0.0)\n",
      "Collecting astunparse>=1.6.0 (from tensorflow-macos==2.15.0->tensorflow)\n",
      "  Downloading astunparse-1.6.3-py2.py3-none-any.whl (12 kB)\n",
      "Requirement already satisfied: flatbuffers>=23.5.26 in /Users/shaimahaque/Projects/asl_signs_isl/.venv/lib/python3.9/site-packages (from tensorflow-macos==2.15.0->tensorflow) (23.5.26)\n",
      "Collecting gast!=0.5.0,!=0.5.1,!=0.5.2,>=0.2.1 (from tensorflow-macos==2.15.0->tensorflow)\n",
      "  Downloading gast-0.5.4-py3-none-any.whl (19 kB)\n",
      "Collecting google-pasta>=0.1.1 (from tensorflow-macos==2.15.0->tensorflow)\n",
      "  Downloading google_pasta-0.2.0-py3-none-any.whl (57 kB)\n",
      "\u001b[2K     \u001b[90m━━━━━━━━━━━━━━━━━━━━━━━━━━━━━━━━━━━━━━━━\u001b[0m \u001b[32m57.5/57.5 kB\u001b[0m \u001b[31m2.2 MB/s\u001b[0m eta \u001b[36m0:00:00\u001b[0m\n",
      "\u001b[?25hCollecting h5py>=2.9.0 (from tensorflow-macos==2.15.0->tensorflow)\n",
      "  Downloading h5py-3.10.0-cp39-cp39-macosx_11_0_arm64.whl.metadata (2.5 kB)\n",
      "Collecting libclang>=13.0.0 (from tensorflow-macos==2.15.0->tensorflow)\n",
      "  Downloading libclang-16.0.6-py2.py3-none-macosx_11_0_arm64.whl.metadata (5.2 kB)\n",
      "Collecting ml-dtypes~=0.2.0 (from tensorflow-macos==2.15.0->tensorflow)\n",
      "  Downloading ml_dtypes-0.2.0-cp39-cp39-macosx_10_9_universal2.whl.metadata (20 kB)\n",
      "Requirement already satisfied: numpy<2.0.0,>=1.23.5 in /Users/shaimahaque/Projects/asl_signs_isl/.venv/lib/python3.9/site-packages (from tensorflow-macos==2.15.0->tensorflow) (1.26.1)\n",
      "Collecting opt-einsum>=2.3.2 (from tensorflow-macos==2.15.0->tensorflow)\n",
      "  Downloading opt_einsum-3.3.0-py3-none-any.whl (65 kB)\n",
      "\u001b[2K     \u001b[90m━━━━━━━━━━━━━━━━━━━━━━━━━━━━━━━━━━━━━━━━\u001b[0m \u001b[32m65.5/65.5 kB\u001b[0m \u001b[31m6.4 MB/s\u001b[0m eta \u001b[36m0:00:00\u001b[0m\n",
      "\u001b[?25hRequirement already satisfied: packaging in /Users/shaimahaque/Projects/asl_signs_isl/.venv/lib/python3.9/site-packages (from tensorflow-macos==2.15.0->tensorflow) (23.2)\n",
      "Requirement already satisfied: protobuf!=4.21.0,!=4.21.1,!=4.21.2,!=4.21.3,!=4.21.4,!=4.21.5,<5.0.0dev,>=3.20.3 in /Users/shaimahaque/Projects/asl_signs_isl/.venv/lib/python3.9/site-packages (from tensorflow-macos==2.15.0->tensorflow) (3.20.3)\n",
      "Requirement already satisfied: setuptools in /Users/shaimahaque/Projects/asl_signs_isl/.venv/lib/python3.9/site-packages (from tensorflow-macos==2.15.0->tensorflow) (58.0.4)\n",
      "Requirement already satisfied: six>=1.12.0 in /Users/shaimahaque/Projects/asl_signs_isl/.venv/lib/python3.9/site-packages (from tensorflow-macos==2.15.0->tensorflow) (1.16.0)\n",
      "Collecting termcolor>=1.1.0 (from tensorflow-macos==2.15.0->tensorflow)\n",
      "  Downloading termcolor-2.4.0-py3-none-any.whl.metadata (6.1 kB)\n",
      "Requirement already satisfied: typing-extensions>=3.6.6 in /Users/shaimahaque/Projects/asl_signs_isl/.venv/lib/python3.9/site-packages (from tensorflow-macos==2.15.0->tensorflow) (4.8.0)\n",
      "Collecting wrapt<1.15,>=1.11.0 (from tensorflow-macos==2.15.0->tensorflow)\n",
      "  Downloading wrapt-1.14.1-cp39-cp39-macosx_11_0_arm64.whl (35 kB)\n",
      "Collecting tensorflow-io-gcs-filesystem>=0.23.1 (from tensorflow-macos==2.15.0->tensorflow)\n",
      "  Downloading tensorflow_io_gcs_filesystem-0.34.0-cp39-cp39-macosx_12_0_arm64.whl.metadata (14 kB)\n",
      "Collecting grpcio<2.0,>=1.24.3 (from tensorflow-macos==2.15.0->tensorflow)\n",
      "  Downloading grpcio-1.59.3-cp39-cp39-macosx_10_10_universal2.whl.metadata (4.0 kB)\n",
      "Collecting tensorboard<2.16,>=2.15 (from tensorflow-macos==2.15.0->tensorflow)\n",
      "  Downloading tensorboard-2.15.1-py3-none-any.whl.metadata (1.7 kB)\n",
      "Collecting tensorflow-estimator<2.16,>=2.15.0 (from tensorflow-macos==2.15.0->tensorflow)\n",
      "  Downloading tensorflow_estimator-2.15.0-py2.py3-none-any.whl.metadata (1.3 kB)\n",
      "Collecting keras<2.16,>=2.15.0 (from tensorflow-macos==2.15.0->tensorflow)\n",
      "  Downloading keras-2.15.0-py3-none-any.whl.metadata (2.4 kB)\n",
      "Collecting wheel<1.0,>=0.23.0 (from astunparse>=1.6.0->tensorflow-macos==2.15.0->tensorflow)\n",
      "  Downloading wheel-0.42.0-py3-none-any.whl.metadata (2.2 kB)\n",
      "Collecting google-auth<3,>=1.6.3 (from tensorboard<2.16,>=2.15->tensorflow-macos==2.15.0->tensorflow)\n",
      "  Downloading google_auth-2.24.0-py2.py3-none-any.whl.metadata (4.7 kB)\n",
      "Collecting google-auth-oauthlib<2,>=0.5 (from tensorboard<2.16,>=2.15->tensorflow-macos==2.15.0->tensorflow)\n",
      "  Downloading google_auth_oauthlib-1.1.0-py2.py3-none-any.whl.metadata (2.7 kB)\n",
      "Collecting markdown>=2.6.8 (from tensorboard<2.16,>=2.15->tensorflow-macos==2.15.0->tensorflow)\n",
      "  Downloading Markdown-3.5.1-py3-none-any.whl.metadata (7.1 kB)\n",
      "Collecting requests<3,>=2.21.0 (from tensorboard<2.16,>=2.15->tensorflow-macos==2.15.0->tensorflow)\n",
      "  Downloading requests-2.31.0-py3-none-any.whl.metadata (4.6 kB)\n",
      "Collecting tensorboard-data-server<0.8.0,>=0.7.0 (from tensorboard<2.16,>=2.15->tensorflow-macos==2.15.0->tensorflow)\n",
      "  Downloading tensorboard_data_server-0.7.2-py3-none-any.whl.metadata (1.1 kB)\n",
      "Collecting werkzeug>=1.0.1 (from tensorboard<2.16,>=2.15->tensorflow-macos==2.15.0->tensorflow)\n",
      "  Downloading werkzeug-3.0.1-py3-none-any.whl.metadata (4.1 kB)\n",
      "Collecting cachetools<6.0,>=2.0.0 (from google-auth<3,>=1.6.3->tensorboard<2.16,>=2.15->tensorflow-macos==2.15.0->tensorflow)\n",
      "  Downloading cachetools-5.3.2-py3-none-any.whl.metadata (5.2 kB)\n",
      "Collecting pyasn1-modules>=0.2.1 (from google-auth<3,>=1.6.3->tensorboard<2.16,>=2.15->tensorflow-macos==2.15.0->tensorflow)\n",
      "  Downloading pyasn1_modules-0.3.0-py2.py3-none-any.whl (181 kB)\n",
      "\u001b[2K     \u001b[90m━━━━━━━━━━━━━━━━━━━━━━━━━━━━━━━━━━━━━━━\u001b[0m \u001b[32m181.3/181.3 kB\u001b[0m \u001b[31m6.7 MB/s\u001b[0m eta \u001b[36m0:00:00\u001b[0m\n",
      "\u001b[?25hCollecting rsa<5,>=3.1.4 (from google-auth<3,>=1.6.3->tensorboard<2.16,>=2.15->tensorflow-macos==2.15.0->tensorflow)\n",
      "  Downloading rsa-4.9-py3-none-any.whl (34 kB)\n",
      "Collecting requests-oauthlib>=0.7.0 (from google-auth-oauthlib<2,>=0.5->tensorboard<2.16,>=2.15->tensorflow-macos==2.15.0->tensorflow)\n",
      "  Downloading requests_oauthlib-1.3.1-py2.py3-none-any.whl (23 kB)\n",
      "Requirement already satisfied: importlib-metadata>=4.4 in /Users/shaimahaque/Projects/asl_signs_isl/.venv/lib/python3.9/site-packages (from markdown>=2.6.8->tensorboard<2.16,>=2.15->tensorflow-macos==2.15.0->tensorflow) (7.0.0)\n",
      "Collecting charset-normalizer<4,>=2 (from requests<3,>=2.21.0->tensorboard<2.16,>=2.15->tensorflow-macos==2.15.0->tensorflow)\n",
      "  Downloading charset_normalizer-3.3.2-cp39-cp39-macosx_11_0_arm64.whl.metadata (33 kB)\n",
      "Collecting idna<4,>=2.5 (from requests<3,>=2.21.0->tensorboard<2.16,>=2.15->tensorflow-macos==2.15.0->tensorflow)\n",
      "  Downloading idna-3.6-py3-none-any.whl.metadata (9.9 kB)\n",
      "Collecting urllib3<3,>=1.21.1 (from requests<3,>=2.21.0->tensorboard<2.16,>=2.15->tensorflow-macos==2.15.0->tensorflow)\n",
      "  Downloading urllib3-2.1.0-py3-none-any.whl.metadata (6.4 kB)\n",
      "Collecting certifi>=2017.4.17 (from requests<3,>=2.21.0->tensorboard<2.16,>=2.15->tensorflow-macos==2.15.0->tensorflow)\n",
      "  Downloading certifi-2023.11.17-py3-none-any.whl.metadata (2.2 kB)\n",
      "Collecting MarkupSafe>=2.1.1 (from werkzeug>=1.0.1->tensorboard<2.16,>=2.15->tensorflow-macos==2.15.0->tensorflow)\n",
      "  Downloading MarkupSafe-2.1.3-cp39-cp39-macosx_10_9_universal2.whl.metadata (3.0 kB)\n",
      "Requirement already satisfied: zipp>=0.5 in /Users/shaimahaque/Projects/asl_signs_isl/.venv/lib/python3.9/site-packages (from importlib-metadata>=4.4->markdown>=2.6.8->tensorboard<2.16,>=2.15->tensorflow-macos==2.15.0->tensorflow) (3.17.0)\n",
      "Collecting pyasn1<0.6.0,>=0.4.6 (from pyasn1-modules>=0.2.1->google-auth<3,>=1.6.3->tensorboard<2.16,>=2.15->tensorflow-macos==2.15.0->tensorflow)\n",
      "  Downloading pyasn1-0.5.1-py2.py3-none-any.whl.metadata (8.6 kB)\n",
      "Collecting oauthlib>=3.0.0 (from requests-oauthlib>=0.7.0->google-auth-oauthlib<2,>=0.5->tensorboard<2.16,>=2.15->tensorflow-macos==2.15.0->tensorflow)\n",
      "  Downloading oauthlib-3.2.2-py3-none-any.whl (151 kB)\n",
      "\u001b[2K     \u001b[90m━━━━━━━━━━━━━━━━━━━━━━━━━━━━━━━━━━━━━━\u001b[0m \u001b[32m151.7/151.7 kB\u001b[0m \u001b[31m14.5 MB/s\u001b[0m eta \u001b[36m0:00:00\u001b[0m\n",
      "\u001b[?25hDownloading tensorflow-2.15.0-cp39-cp39-macosx_12_0_arm64.whl (2.1 kB)\n",
      "Downloading tensorflow_macos-2.15.0-cp39-cp39-macosx_12_0_arm64.whl (208.8 MB)\n",
      "\u001b[2K   \u001b[90m━━━━━━━━━━━━━━━━━━━━━━━━━━━━━━━━━━━━━━━━\u001b[0m \u001b[32m208.8/208.8 MB\u001b[0m \u001b[31m33.5 MB/s\u001b[0m eta \u001b[36m0:00:00\u001b[0m00:01\u001b[0m00:01\u001b[0m\n",
      "\u001b[?25hDownloading grpcio-1.59.3-cp39-cp39-macosx_10_10_universal2.whl (9.6 MB)\n",
      "\u001b[2K   \u001b[90m━━━━━━━━━━━━━━━━━━━━━━━━━━━━━━━━━━━━━━━━\u001b[0m \u001b[32m9.6/9.6 MB\u001b[0m \u001b[31m43.2 MB/s\u001b[0m eta \u001b[36m0:00:00\u001b[0ma \u001b[36m0:00:01\u001b[0m\n",
      "\u001b[?25hDownloading h5py-3.10.0-cp39-cp39-macosx_11_0_arm64.whl (2.7 MB)\n",
      "\u001b[2K   \u001b[90m━━━━━━━━━━━━━━━━━━━━━━━━━━━━━━━━━━━━━━━━\u001b[0m \u001b[32m2.7/2.7 MB\u001b[0m \u001b[31m32.8 MB/s\u001b[0m eta \u001b[36m0:00:00\u001b[0ma \u001b[36m0:00:01\u001b[0m\n",
      "\u001b[?25hDownloading keras-2.15.0-py3-none-any.whl (1.7 MB)\n",
      "\u001b[2K   \u001b[90m━━━━━━━━━━━━━━━━━━━━━━━━━━━━━━━━━━━━━━━━\u001b[0m \u001b[32m1.7/1.7 MB\u001b[0m \u001b[31m41.1 MB/s\u001b[0m eta \u001b[36m0:00:00\u001b[0m00:01\u001b[0m\n",
      "\u001b[?25hDownloading libclang-16.0.6-py2.py3-none-macosx_11_0_arm64.whl (20.6 MB)\n",
      "\u001b[2K   \u001b[90m━━━━━━━━━━━━━━━━━━━━━━━━━━━━━━━━━━━━━━━━\u001b[0m \u001b[32m20.6/20.6 MB\u001b[0m \u001b[31m42.8 MB/s\u001b[0m eta \u001b[36m0:00:00\u001b[0ma \u001b[36m0:00:01\u001b[0m\n",
      "\u001b[?25hDownloading ml_dtypes-0.2.0-cp39-cp39-macosx_10_9_universal2.whl (1.2 MB)\n",
      "\u001b[2K   \u001b[90m━━━━━━━━━━━━━━━━━━━━━━━━━━━━━━━━━━━━━━━━\u001b[0m \u001b[32m1.2/1.2 MB\u001b[0m \u001b[31m36.4 MB/s\u001b[0m eta \u001b[36m0:00:00\u001b[0m\n",
      "\u001b[?25hDownloading tensorboard-2.15.1-py3-none-any.whl (5.5 MB)\n",
      "\u001b[2K   \u001b[90m━━━━━━━━━━━━━━━━━━━━━━━━━━━━━━━━━━━━━━━━\u001b[0m \u001b[32m5.5/5.5 MB\u001b[0m \u001b[31m42.6 MB/s\u001b[0m eta \u001b[36m0:00:00\u001b[0ma \u001b[36m0:00:01\u001b[0m\n",
      "\u001b[?25hDownloading tensorflow_estimator-2.15.0-py2.py3-none-any.whl (441 kB)\n",
      "\u001b[2K   \u001b[90m━━━━━━━━━━━━━━━━━━━━━━━━━━━━━━━━━━━━━━━━\u001b[0m \u001b[32m442.0/442.0 kB\u001b[0m \u001b[31m31.4 MB/s\u001b[0m eta \u001b[36m0:00:00\u001b[0m\n",
      "\u001b[?25hDownloading tensorflow_io_gcs_filesystem-0.34.0-cp39-cp39-macosx_12_0_arm64.whl (1.9 MB)\n",
      "\u001b[2K   \u001b[90m━━━━━━━━━━━━━━━━━━━━━━━━━━━━━━━━━━━━━━━━\u001b[0m \u001b[32m1.9/1.9 MB\u001b[0m \u001b[31m42.4 MB/s\u001b[0m eta \u001b[36m0:00:00\u001b[0ma \u001b[36m0:00:01\u001b[0m\n",
      "\u001b[?25hDownloading termcolor-2.4.0-py3-none-any.whl (7.7 kB)\n",
      "Downloading google_auth-2.24.0-py2.py3-none-any.whl (183 kB)\n",
      "\u001b[2K   \u001b[90m━━━━━━━━━━━━━━━━━━━━━━━━━━━━━━━━━━━━━━━━\u001b[0m \u001b[32m183.8/183.8 kB\u001b[0m \u001b[31m15.0 MB/s\u001b[0m eta \u001b[36m0:00:00\u001b[0m\n",
      "\u001b[?25hDownloading google_auth_oauthlib-1.1.0-py2.py3-none-any.whl (19 kB)\n",
      "Downloading Markdown-3.5.1-py3-none-any.whl (102 kB)\n",
      "\u001b[2K   \u001b[90m━━━━━━━━━━━━━━━━━━━━━━━━━━━━━━━━━━━━━━━━\u001b[0m \u001b[32m102.2/102.2 kB\u001b[0m \u001b[31m12.3 MB/s\u001b[0m eta \u001b[36m0:00:00\u001b[0m\n",
      "\u001b[?25hDownloading requests-2.31.0-py3-none-any.whl (62 kB)\n",
      "\u001b[2K   \u001b[90m━━━━━━━━━━━━━━━━━━━━━━━━━━━━━━━━━━━━━━━━\u001b[0m \u001b[32m62.6/62.6 kB\u001b[0m \u001b[31m7.2 MB/s\u001b[0m eta \u001b[36m0:00:00\u001b[0m\n",
      "\u001b[?25hDownloading tensorboard_data_server-0.7.2-py3-none-any.whl (2.4 kB)\n",
      "Downloading werkzeug-3.0.1-py3-none-any.whl (226 kB)\n",
      "\u001b[2K   \u001b[90m━━━━━━━━━━━━━━━━━━━━━━━━━━━━━━━━━━━━━━━━\u001b[0m \u001b[32m226.7/226.7 kB\u001b[0m \u001b[31m23.3 MB/s\u001b[0m eta \u001b[36m0:00:00\u001b[0m\n",
      "\u001b[?25hDownloading wheel-0.42.0-py3-none-any.whl (65 kB)\n",
      "\u001b[2K   \u001b[90m━━━━━━━━━━━━━━━━━━━━━━━━━━━━━━━━━━━━━━━━\u001b[0m \u001b[32m65.4/65.4 kB\u001b[0m \u001b[31m6.8 MB/s\u001b[0m eta \u001b[36m0:00:00\u001b[0m\n",
      "\u001b[?25hDownloading cachetools-5.3.2-py3-none-any.whl (9.3 kB)\n",
      "Downloading certifi-2023.11.17-py3-none-any.whl (162 kB)\n",
      "\u001b[2K   \u001b[90m━━━━━━━━━━━━━━━━━━━━━━━━━━━━━━━━━━━━━━━━\u001b[0m \u001b[32m162.5/162.5 kB\u001b[0m \u001b[31m19.9 MB/s\u001b[0m eta \u001b[36m0:00:00\u001b[0m\n",
      "\u001b[?25hDownloading charset_normalizer-3.3.2-cp39-cp39-macosx_11_0_arm64.whl (120 kB)\n",
      "\u001b[2K   \u001b[90m━━━━━━━━━━━━━━━━━━━━━━━━━━━━━━━━━━━━━━━━\u001b[0m \u001b[32m120.4/120.4 kB\u001b[0m \u001b[31m12.3 MB/s\u001b[0m eta \u001b[36m0:00:00\u001b[0m\n",
      "\u001b[?25hDownloading idna-3.6-py3-none-any.whl (61 kB)\n",
      "\u001b[2K   \u001b[90m━━━━━━━━━━━━━━━━━━━━━━━━━━━━━━━━━━━━━━━━\u001b[0m \u001b[32m61.6/61.6 kB\u001b[0m \u001b[31m8.2 MB/s\u001b[0m eta \u001b[36m0:00:00\u001b[0m\n",
      "\u001b[?25hDownloading MarkupSafe-2.1.3-cp39-cp39-macosx_10_9_universal2.whl (17 kB)\n",
      "Downloading urllib3-2.1.0-py3-none-any.whl (104 kB)\n",
      "\u001b[2K   \u001b[90m━━━━━━━━━━━━━━━━━━━━━━━━━━━━━━━━━━━━━━━━\u001b[0m \u001b[32m104.6/104.6 kB\u001b[0m \u001b[31m10.3 MB/s\u001b[0m eta \u001b[36m0:00:00\u001b[0m\n",
      "\u001b[?25hDownloading pyasn1-0.5.1-py2.py3-none-any.whl (84 kB)\n",
      "\u001b[2K   \u001b[90m━━━━━━━━━━━━━━━━━━━━━━━━━━━━━━━━━━━━━━━━\u001b[0m \u001b[32m84.9/84.9 kB\u001b[0m \u001b[31m11.3 MB/s\u001b[0m eta \u001b[36m0:00:00\u001b[0m\n",
      "\u001b[?25hInstalling collected packages: libclang, wrapt, wheel, urllib3, termcolor, tensorflow-io-gcs-filesystem, tensorflow-estimator, tensorboard-data-server, pyasn1, opt-einsum, oauthlib, ml-dtypes, MarkupSafe, keras, idna, h5py, grpcio, google-pasta, gast, charset-normalizer, certifi, cachetools, werkzeug, rsa, requests, pyasn1-modules, markdown, astunparse, requests-oauthlib, google-auth, google-auth-oauthlib, tensorboard, tensorflow-macos, tensorflow\n",
      "Successfully installed MarkupSafe-2.1.3 astunparse-1.6.3 cachetools-5.3.2 certifi-2023.11.17 charset-normalizer-3.3.2 gast-0.5.4 google-auth-2.24.0 google-auth-oauthlib-1.1.0 google-pasta-0.2.0 grpcio-1.59.3 h5py-3.10.0 idna-3.6 keras-2.15.0 libclang-16.0.6 markdown-3.5.1 ml-dtypes-0.2.0 oauthlib-3.2.2 opt-einsum-3.3.0 pyasn1-0.5.1 pyasn1-modules-0.3.0 requests-2.31.0 requests-oauthlib-1.3.1 rsa-4.9 tensorboard-2.15.1 tensorboard-data-server-0.7.2 tensorflow-2.15.0 tensorflow-estimator-2.15.0 tensorflow-io-gcs-filesystem-0.34.0 tensorflow-macos-2.15.0 termcolor-2.4.0 urllib3-2.1.0 werkzeug-3.0.1 wheel-0.42.0 wrapt-1.14.1\n"
     ]
    }
   ],
   "source": [
    "!pip install tensorflow"
   ]
  },
  {
   "cell_type": "code",
   "execution_count": 11,
   "metadata": {},
   "outputs": [
    {
     "name": "stdout",
     "output_type": "stream",
     "text": [
      "Requirement already satisfied: pandas in /Users/shaimahaque/Projects/asl_signs_isl/.venv/lib/python3.9/site-packages (2.1.3)\n",
      "Requirement already satisfied: numpy in /Users/shaimahaque/Projects/asl_signs_isl/.venv/lib/python3.9/site-packages (1.26.1)\n",
      "Collecting pyarrow\n",
      "  Downloading pyarrow-14.0.1-cp39-cp39-macosx_11_0_arm64.whl.metadata (3.0 kB)\n",
      "Collecting fastparquet\n",
      "  Downloading fastparquet-2023.10.1-cp39-cp39-macosx_11_0_arm64.whl.metadata (4.1 kB)\n",
      "Requirement already satisfied: python-dateutil>=2.8.2 in /Users/shaimahaque/Projects/asl_signs_isl/.venv/lib/python3.9/site-packages (from pandas) (2.8.2)\n",
      "Requirement already satisfied: pytz>=2020.1 in /Users/shaimahaque/Projects/asl_signs_isl/.venv/lib/python3.9/site-packages (from pandas) (2023.3.post1)\n",
      "Requirement already satisfied: tzdata>=2022.1 in /Users/shaimahaque/Projects/asl_signs_isl/.venv/lib/python3.9/site-packages (from pandas) (2023.3)\n",
      "Collecting cramjam>=2.3 (from fastparquet)\n",
      "  Downloading cramjam-2.7.0-cp39-cp39-macosx_10_9_x86_64.macosx_11_0_arm64.macosx_10_9_universal2.whl.metadata (4.0 kB)\n",
      "Collecting fsspec (from fastparquet)\n",
      "  Downloading fsspec-2023.12.0-py3-none-any.whl.metadata (6.8 kB)\n",
      "Requirement already satisfied: packaging in /Users/shaimahaque/Projects/asl_signs_isl/.venv/lib/python3.9/site-packages (from fastparquet) (23.2)\n",
      "Requirement already satisfied: six>=1.5 in /Users/shaimahaque/Projects/asl_signs_isl/.venv/lib/python3.9/site-packages (from python-dateutil>=2.8.2->pandas) (1.16.0)\n",
      "Downloading pyarrow-14.0.1-cp39-cp39-macosx_11_0_arm64.whl (24.0 MB)\n",
      "\u001b[2K   \u001b[90m━━━━━━━━━━━━━━━━━━━━━━━━━━━━━━━━━━━━━━━━\u001b[0m \u001b[32m24.0/24.0 MB\u001b[0m \u001b[31m63.1 MB/s\u001b[0m eta \u001b[36m0:00:00\u001b[0m00:01\u001b[0m00:01\u001b[0m\n",
      "\u001b[?25hDownloading fastparquet-2023.10.1-cp39-cp39-macosx_11_0_arm64.whl (682 kB)\n",
      "\u001b[2K   \u001b[90m━━━━━━━━━━━━━━━━━━━━━━━━━━━━━━━━━━━━━━━━\u001b[0m \u001b[32m682.6/682.6 kB\u001b[0m \u001b[31m37.2 MB/s\u001b[0m eta \u001b[36m0:00:00\u001b[0m\n",
      "\u001b[?25hDownloading cramjam-2.7.0-cp39-cp39-macosx_10_9_x86_64.macosx_11_0_arm64.macosx_10_9_universal2.whl (3.2 MB)\n",
      "\u001b[2K   \u001b[90m━━━━━━━━━━━━━━━━━━━━━━━━━━━━━━━━━━━━━━━━\u001b[0m \u001b[32m3.2/3.2 MB\u001b[0m \u001b[31m32.1 MB/s\u001b[0m eta \u001b[36m0:00:00\u001b[0ma \u001b[36m0:00:01\u001b[0m\n",
      "\u001b[?25hDownloading fsspec-2023.12.0-py3-none-any.whl (168 kB)\n",
      "\u001b[2K   \u001b[90m━━━━━━━━━━━━━━━━━━━━━━━━━━━━━━━━━━━━━━━━\u001b[0m \u001b[32m168.9/168.9 kB\u001b[0m \u001b[31m15.5 MB/s\u001b[0m eta \u001b[36m0:00:00\u001b[0m\n",
      "\u001b[?25hInstalling collected packages: pyarrow, fsspec, cramjam, fastparquet\n",
      "Successfully installed cramjam-2.7.0 fastparquet-2023.10.1 fsspec-2023.12.0 pyarrow-14.0.1\n"
     ]
    }
   ],
   "source": [
    "!pip install pandas numpy pyarrow fastparquet"
   ]
  },
  {
   "cell_type": "code",
   "execution_count": 12,
   "id": "8defd3bf-e094-4a79-8018-f85d7826061a",
   "metadata": {},
   "outputs": [],
   "source": [
    "import pandas as pd\n",
    "import numpy as np\n",
    "\n",
    "\n",
    "ROWS_PER_FRAME = 543 #no of landmarks per frame\n",
    "\n",
    "def load_relevant_data_subset(pq_file):\n",
    "    data_columns = ['x','y','z']\n",
    "    data = pd.read_parquet(pq_file, columns = data_columns)\n",
    "    n_frames = int(len(data) /ROWS_PER_FRAME)\n",
    "    print(len(data))\n",
    "    data = data.values.reshape(n_frames, ROWS_PER_FRAME, len(data_columns))\n",
    "    print(n_frames)\n",
    "    return data.astype(np.float32)"
   ]
  },
  {
   "cell_type": "code",
   "execution_count": 13,
   "id": "0ddfcad8-dc4a-4973-ad5f-2deb4ca61013",
   "metadata": {},
   "outputs": [],
   "source": [
    "#load in tflite model\n",
    "import tensorflow as tf\n",
    "# import tflite_runtime.interpreter as tflite\n",
    "\n",
    "interpreter = tf.lite.Interpreter(model_path=\"./model.tflite\")\n",
    "interpreter.allocate_tensors()\n",
    "\n",
    "found_signatures = list(interpreter.get_signature_list().keys())\n",
    "prediction_fn = interpreter.get_signature_runner(\"serving_default\")\n"
   ]
  },
  {
   "cell_type": "code",
   "execution_count": 14,
   "id": "f0879483-3c10-4224-9ab4-6cfcb9430a0b",
   "metadata": {},
   "outputs": [
    {
     "name": "stdout",
     "output_type": "stream",
     "text": [
      "45612\n",
      "84\n",
      "[8.6997182e-04 1.6417833e-03 2.2350175e-03 1.2433246e-03 1.3633603e-03\n",
      " 4.0837200e-04 3.0838989e-03 3.5600010e-03 3.4382388e-03 9.0500939e-04\n",
      " 1.6896825e-03 1.4474310e-03 1.5987931e-03 1.4854714e-03 1.1388869e-03\n",
      " 9.8042842e-04 1.1920837e-03 2.5659020e-03 9.0213475e-04 5.2439858e-04\n",
      " 1.6423275e-03 1.9357132e-03 1.6917761e-03 1.0730104e-03 1.5690415e-03\n",
      " 2.3330529e-03 4.4182250e-03 5.3228694e-04 1.0600077e-02 4.6246378e-03\n",
      " 1.9510824e-03 1.7743710e-03 1.2418368e-03 6.0694595e-04 1.0960781e-03\n",
      " 6.9890375e-04 1.6925589e-03 1.3900592e-03 1.9308496e-03 2.2787622e-03\n",
      " 9.1683038e-04 1.6996477e-03 1.2464006e-03 3.0949195e-03 7.4418634e-04\n",
      " 4.4248745e-04 4.3586190e-04 9.8694221e-04 1.3148328e-03 1.9633716e-03\n",
      " 3.3566803e-03 2.0540082e-03 1.4130878e-03 2.2696380e-03 2.9748653e-03\n",
      " 2.3231516e-03 6.3447235e-04 4.6769227e-03 6.6286237e-03 1.6162698e-03\n",
      " 4.7746054e-03 8.9780905e-04 5.3355880e-03 1.7501202e-03 8.9905737e-04\n",
      " 1.3106969e-03 6.2084943e-04 3.2419802e-03 7.1192381e-04 7.1015023e-04\n",
      " 7.2161900e-04 8.5254321e-03 1.8813653e-03 7.9836877e-04 1.0446534e-03\n",
      " 2.3398958e-03 8.1086118e-04 1.4289174e-03 1.7842851e-03 2.0572466e-03\n",
      " 6.1642902e-04 1.3108706e-03 3.6869349e-03 1.0508616e-03 8.1812812e-04\n",
      " 6.7649398e-04 1.3426426e-03 5.8920393e-03 1.9339465e-03 8.3130662e-04\n",
      " 1.4952228e-03 3.8796540e-03 9.0691581e-04 1.7249987e-03 1.6524830e-03\n",
      " 1.7383440e-03 1.3696065e-03 3.4846745e-03 3.2866071e-03 4.0707446e-04\n",
      " 1.4847377e-03 1.2047727e-03 7.6725084e-04 1.6821619e-03 4.0461500e-03\n",
      " 2.8826331e-03 2.5503079e-03 7.9431105e-04 1.1562647e-03 1.1857686e-03\n",
      " 1.2496492e-03 7.8805897e-04 3.8920777e-04 4.8448944e-01 3.4471245e-03\n",
      " 2.7026345e-03 8.7218906e-04 8.2136858e-03 1.6746812e-03 9.7732479e-04\n",
      " 2.3227008e-03 6.3032545e-03 9.7145577e-04 1.9199608e-03 2.0164787e-04\n",
      " 1.1525414e-03 5.0244795e-04 5.5872474e-04 1.4718155e-03 1.0978550e-03\n",
      " 1.4783754e-03 2.6042319e-03 2.7867081e-03 6.6387584e-03 5.2886088e-03\n",
      " 7.6430076e-04 2.9289229e-03 1.6593367e-03 2.9913413e-03 2.8202387e-03\n",
      " 4.5062494e-03 1.5590115e-03 2.3547634e-03 1.9351337e-03 9.0257626e-04\n",
      " 3.3854793e-03 2.5280230e-03 2.7473820e-03 8.6261617e-04 2.0317091e-03\n",
      " 1.5762675e-03 3.6982442e-03 6.7148264e-04 3.4889642e-03 1.3709295e-03\n",
      " 2.0313815e-03 9.4876962e-04 8.5617590e-04 3.1683149e-03 2.0205318e-03\n",
      " 3.4074502e-03 7.1745616e-04 1.4180247e-03 1.1620396e-03 6.5728003e-04\n",
      " 2.0529907e-03 1.0575033e-03 9.7105984e-04 8.4334274e-04 1.3321966e-03\n",
      " 1.5995975e-03 1.3018682e-03 4.1594738e-03 9.8165637e-04 1.1802721e-03\n",
      " 1.6677578e-03 5.7569420e-04 9.8617631e-04 1.0142549e-03 8.7945734e-04\n",
      " 1.7851191e-03 1.6164662e-03 1.6928308e-03 7.3477457e-04 2.9468655e-03\n",
      " 1.4194635e-03 1.2571469e-03 2.1924218e-03 7.3131023e-04 1.2259020e-03\n",
      " 1.5941280e-03 1.1490011e-03 3.0835050e-03 9.0469228e-04 1.7597318e-03\n",
      " 5.4105558e-03 2.7154880e-03 1.8354619e-03 1.3076718e-03 3.7384601e-03\n",
      " 1.6053544e-03 2.0146968e-03 2.2933879e-03 5.1329127e-03 9.3680894e-04\n",
      " 3.4409235e-03 2.7663552e-04 4.5116846e-03 1.7911490e-03 1.1180907e-03\n",
      " 1.0529491e-03 1.0338859e-03 3.2127532e-03 2.5748799e-03 2.0309717e-03\n",
      " 1.2684335e-03 5.7970890e-04 1.3820094e-03 1.4554643e-03 1.2523545e-03\n",
      " 1.6014766e-03 1.9288869e-03 9.1546215e-04 2.9973383e-03 2.1228846e-03\n",
      " 5.9230340e-04 2.4718209e-03 5.8781933e-03 3.4797629e-03 1.1753949e-03\n",
      " 3.2774082e-03 1.8508881e-03 1.9630638e-03 1.4735101e-03 1.3425645e-03\n",
      " 2.2997330e-03 6.1567372e-04 1.0621992e-03 1.1330098e-03 8.9076190e-04\n",
      " 4.5194323e-03 2.2910455e-02 2.0796971e-03 5.3293230e-03 3.9306758e-03\n",
      " 2.0131278e-03 6.1906857e-04 1.9621728e-03 9.9044363e-04 9.7657391e-04]\n"
     ]
    }
   ],
   "source": [
    "train = pd.read_csv('../train_new_csv.csv')\n",
    "train['sign_ord'] = train['sign'].astype('category').cat.codes\n",
    "# print(train['sign_ord'])\n",
    "#dictionaries to translate sign <-> ordinal encoded sign\n",
    "SIGN2ORD = train[['sign', 'sign_ord']].set_index('sign').squeeze().to_dict()\n",
    "ORD2SIGN = train[['sign_ord', 'sign']].set_index('sign_ord').squeeze().to_dict()\n",
    "\n",
    "pq_file = './output.parquet'\n",
    "xyz_np = load_relevant_data_subset(pq_file)\n",
    "prediction = prediction_fn(inputs = xyz_np)\n",
    "sign = prediction['outputs'].argmax() \n",
    "print(prediction['outputs'])\n",
    "# print(sign)\n",
    "\n"
   ]
  },
  {
   "cell_type": "code",
   "execution_count": 15,
   "id": "e238a880-58c4-43d3-b0bc-a84b6c7c20cc",
   "metadata": {},
   "outputs": [
    {
     "data": {
      "text/plain": [
       "1"
      ]
     },
     "execution_count": 15,
     "metadata": {},
     "output_type": "execute_result"
    }
   ],
   "source": [
    "train['sign_ord'].max()"
   ]
  },
  {
   "cell_type": "code",
   "execution_count": 16,
   "id": "32fb15f0-63e7-49a6-9e01-c77d21e8a9fb",
   "metadata": {},
   "outputs": [
    {
     "name": "stdout",
     "output_type": "stream",
     "text": [
      "{1: 'thankyou', 0: 'hello'}\n"
     ]
    }
   ],
   "source": [
    "print(ORD2SIGN)"
   ]
  },
  {
   "cell_type": "code",
   "execution_count": 17,
   "id": "32e48bb0-893d-44c9-ad6c-51257f0188f3",
   "metadata": {},
   "outputs": [],
   "source": [
    "#this is a workaround for serialized signs in original dataset\n",
    "if (sign==113):\n",
    "    sign = 0\n",
    "elif(sign==214):\n",
    "    sign = 1"
   ]
  },
  {
   "cell_type": "code",
   "execution_count": 18,
   "id": "ad3114ac-082a-4cfa-850d-c275368d0446",
   "metadata": {},
   "outputs": [
    {
     "data": {
      "text/plain": [
       "'hello'"
      ]
     },
     "execution_count": 18,
     "metadata": {},
     "output_type": "execute_result"
    }
   ],
   "source": [
    "ORD2SIGN[sign]"
   ]
  },
  {
   "cell_type": "code",
   "execution_count": 19,
   "id": "e75f7a3f-04be-4975-917c-41edf791289c",
   "metadata": {},
   "outputs": [
    {
     "data": {
      "text/plain": [
       "{'outputs': array([8.6997182e-04, 1.6417833e-03, 2.2350175e-03, 1.2433246e-03,\n",
       "        1.3633603e-03, 4.0837200e-04, 3.0838989e-03, 3.5600010e-03,\n",
       "        3.4382388e-03, 9.0500939e-04, 1.6896825e-03, 1.4474310e-03,\n",
       "        1.5987931e-03, 1.4854714e-03, 1.1388869e-03, 9.8042842e-04,\n",
       "        1.1920837e-03, 2.5659020e-03, 9.0213475e-04, 5.2439858e-04,\n",
       "        1.6423275e-03, 1.9357132e-03, 1.6917761e-03, 1.0730104e-03,\n",
       "        1.5690415e-03, 2.3330529e-03, 4.4182250e-03, 5.3228694e-04,\n",
       "        1.0600077e-02, 4.6246378e-03, 1.9510824e-03, 1.7743710e-03,\n",
       "        1.2418368e-03, 6.0694595e-04, 1.0960781e-03, 6.9890375e-04,\n",
       "        1.6925589e-03, 1.3900592e-03, 1.9308496e-03, 2.2787622e-03,\n",
       "        9.1683038e-04, 1.6996477e-03, 1.2464006e-03, 3.0949195e-03,\n",
       "        7.4418634e-04, 4.4248745e-04, 4.3586190e-04, 9.8694221e-04,\n",
       "        1.3148328e-03, 1.9633716e-03, 3.3566803e-03, 2.0540082e-03,\n",
       "        1.4130878e-03, 2.2696380e-03, 2.9748653e-03, 2.3231516e-03,\n",
       "        6.3447235e-04, 4.6769227e-03, 6.6286237e-03, 1.6162698e-03,\n",
       "        4.7746054e-03, 8.9780905e-04, 5.3355880e-03, 1.7501202e-03,\n",
       "        8.9905737e-04, 1.3106969e-03, 6.2084943e-04, 3.2419802e-03,\n",
       "        7.1192381e-04, 7.1015023e-04, 7.2161900e-04, 8.5254321e-03,\n",
       "        1.8813653e-03, 7.9836877e-04, 1.0446534e-03, 2.3398958e-03,\n",
       "        8.1086118e-04, 1.4289174e-03, 1.7842851e-03, 2.0572466e-03,\n",
       "        6.1642902e-04, 1.3108706e-03, 3.6869349e-03, 1.0508616e-03,\n",
       "        8.1812812e-04, 6.7649398e-04, 1.3426426e-03, 5.8920393e-03,\n",
       "        1.9339465e-03, 8.3130662e-04, 1.4952228e-03, 3.8796540e-03,\n",
       "        9.0691581e-04, 1.7249987e-03, 1.6524830e-03, 1.7383440e-03,\n",
       "        1.3696065e-03, 3.4846745e-03, 3.2866071e-03, 4.0707446e-04,\n",
       "        1.4847377e-03, 1.2047727e-03, 7.6725084e-04, 1.6821619e-03,\n",
       "        4.0461500e-03, 2.8826331e-03, 2.5503079e-03, 7.9431105e-04,\n",
       "        1.1562647e-03, 1.1857686e-03, 1.2496492e-03, 7.8805897e-04,\n",
       "        3.8920777e-04, 4.8448944e-01, 3.4471245e-03, 2.7026345e-03,\n",
       "        8.7218906e-04, 8.2136858e-03, 1.6746812e-03, 9.7732479e-04,\n",
       "        2.3227008e-03, 6.3032545e-03, 9.7145577e-04, 1.9199608e-03,\n",
       "        2.0164787e-04, 1.1525414e-03, 5.0244795e-04, 5.5872474e-04,\n",
       "        1.4718155e-03, 1.0978550e-03, 1.4783754e-03, 2.6042319e-03,\n",
       "        2.7867081e-03, 6.6387584e-03, 5.2886088e-03, 7.6430076e-04,\n",
       "        2.9289229e-03, 1.6593367e-03, 2.9913413e-03, 2.8202387e-03,\n",
       "        4.5062494e-03, 1.5590115e-03, 2.3547634e-03, 1.9351337e-03,\n",
       "        9.0257626e-04, 3.3854793e-03, 2.5280230e-03, 2.7473820e-03,\n",
       "        8.6261617e-04, 2.0317091e-03, 1.5762675e-03, 3.6982442e-03,\n",
       "        6.7148264e-04, 3.4889642e-03, 1.3709295e-03, 2.0313815e-03,\n",
       "        9.4876962e-04, 8.5617590e-04, 3.1683149e-03, 2.0205318e-03,\n",
       "        3.4074502e-03, 7.1745616e-04, 1.4180247e-03, 1.1620396e-03,\n",
       "        6.5728003e-04, 2.0529907e-03, 1.0575033e-03, 9.7105984e-04,\n",
       "        8.4334274e-04, 1.3321966e-03, 1.5995975e-03, 1.3018682e-03,\n",
       "        4.1594738e-03, 9.8165637e-04, 1.1802721e-03, 1.6677578e-03,\n",
       "        5.7569420e-04, 9.8617631e-04, 1.0142549e-03, 8.7945734e-04,\n",
       "        1.7851191e-03, 1.6164662e-03, 1.6928308e-03, 7.3477457e-04,\n",
       "        2.9468655e-03, 1.4194635e-03, 1.2571469e-03, 2.1924218e-03,\n",
       "        7.3131023e-04, 1.2259020e-03, 1.5941280e-03, 1.1490011e-03,\n",
       "        3.0835050e-03, 9.0469228e-04, 1.7597318e-03, 5.4105558e-03,\n",
       "        2.7154880e-03, 1.8354619e-03, 1.3076718e-03, 3.7384601e-03,\n",
       "        1.6053544e-03, 2.0146968e-03, 2.2933879e-03, 5.1329127e-03,\n",
       "        9.3680894e-04, 3.4409235e-03, 2.7663552e-04, 4.5116846e-03,\n",
       "        1.7911490e-03, 1.1180907e-03, 1.0529491e-03, 1.0338859e-03,\n",
       "        3.2127532e-03, 2.5748799e-03, 2.0309717e-03, 1.2684335e-03,\n",
       "        5.7970890e-04, 1.3820094e-03, 1.4554643e-03, 1.2523545e-03,\n",
       "        1.6014766e-03, 1.9288869e-03, 9.1546215e-04, 2.9973383e-03,\n",
       "        2.1228846e-03, 5.9230340e-04, 2.4718209e-03, 5.8781933e-03,\n",
       "        3.4797629e-03, 1.1753949e-03, 3.2774082e-03, 1.8508881e-03,\n",
       "        1.9630638e-03, 1.4735101e-03, 1.3425645e-03, 2.2997330e-03,\n",
       "        6.1567372e-04, 1.0621992e-03, 1.1330098e-03, 8.9076190e-04,\n",
       "        4.5194323e-03, 2.2910455e-02, 2.0796971e-03, 5.3293230e-03,\n",
       "        3.9306758e-03, 2.0131278e-03, 6.1906857e-04, 1.9621728e-03,\n",
       "        9.9044363e-04, 9.7657391e-04], dtype=float32)}"
      ]
     },
     "execution_count": 19,
     "metadata": {},
     "output_type": "execute_result"
    }
   ],
   "source": [
    "prediction"
   ]
  },
  {
   "cell_type": "code",
   "execution_count": 20,
   "id": "a97a0fd7-5814-49fa-a08e-4af3d71a8331",
   "metadata": {},
   "outputs": [
    {
     "data": {
      "text/plain": [
       "(250,)"
      ]
     },
     "execution_count": 20,
     "metadata": {},
     "output_type": "execute_result"
    }
   ],
   "source": [
    "prediction['outputs'].shape"
   ]
  },
  {
   "cell_type": "code",
   "execution_count": 21,
   "id": "04ff6b42-aeed-43bb-bce3-736810733b5e",
   "metadata": {},
   "outputs": [
    {
     "data": {
      "text/plain": [
       "<Axes: >"
      ]
     },
     "execution_count": 21,
     "metadata": {},
     "output_type": "execute_result"
    },
    {
     "data": {
      "image/png": "[encoded data removed]",
      "text/plain": [
       "<Figure size 640x480 with 1 Axes>"
      ]
     },
     "metadata": {},
     "output_type": "display_data"
    }
   ],
   "source": [
    "pd.Series(prediction['outputs']).plot(kind='bar')"
   ]
  },
  {
   "cell_type": "code",
   "execution_count": null,
   "id": "31f3746a-55b7-4731-8f33-49593276be2e",
   "metadata": {},
   "outputs": [],
   "source": []
  }
 ],
 "metadata": {
  "kernelspec": {
   "display_name": "Python 3 (ipykernel)",
   "language": "python",
   "name": "python3"
  },
  "language_info": {
   "codemirror_mode": {
    "name": "ipython",
    "version": 3
   },
   "file_extension": ".py",
   "mimetype": "text/x-python",
   "name": "python",
   "nbconvert_exporter": "python",
   "pygments_lexer": "ipython3",
   "version": "3.9.6"
  }
 },
 "nbformat": 4,
 "nbformat_minor": 5
}
